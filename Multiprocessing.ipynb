{
 "cells": [
  {
   "cell_type": "markdown",
   "metadata": {},
   "source": [
    "                                            ASSIGNMENT : MULTIPROCESSING"
   ]
  },
  {
   "cell_type": "markdown",
   "metadata": {},
   "source": [
    "Q1. What is multiprocessing in python? Why is it useful? "
   ]
  },
  {
   "cell_type": "markdown",
   "metadata": {},
   "source": [
    "Multiprocessing is a process which enables multiple processer of the system at a same time.It basically break the program in multiple parts and give the reposibilty for execution of it, to the multiple processor of the system. So the same program take the less time for execution as regular. For using such type of multiprocessing,we have to import the module named 'multiprocessing' from the python."
   ]
  },
  {
   "cell_type": "markdown",
   "metadata": {},
   "source": [
    "Q2. What are the differences between multiprocessing and multithreading?"
   ]
  },
  {
   "cell_type": "markdown",
   "metadata": {},
   "source": [
    "1. In multiprocessing, a single code executed by multiple cores , however , in multithreading multiple programs are executed by a single core.\n",
    "\n",
    "2. \tMultiprocessing are classified into Symmetric and Asymmetric. While multithreading is not classified in any categories.\n",
    "\n",
    "3.  In multiprocessing, there are more time-consuming process than multithreading.\n",
    "\n",
    "4. \tIn Multiprocessing, every process owned a separate address space.While in Multithreading, a common address space is shared by all the threads."
   ]
  },
  {
   "cell_type": "markdown",
   "metadata": {},
   "source": [
    "Q3. Write a python code to create a process using the multiprocessing module."
   ]
  },
  {
   "cell_type": "code",
   "execution_count": null,
   "metadata": {},
   "outputs": [],
   "source": [
    "import multiprocessing"
   ]
  },
  {
   "cell_type": "code",
   "execution_count": null,
   "metadata": {},
   "outputs": [],
   "source": [
    "def print_cube(num):\n",
    "    \n",
    "    print(\"Cube: {}\".format(num * num * num))\n",
    "  \n",
    "def print_square(num):\n",
    "    \n",
    "    print(\"Square: {}\".format(num * num))\n",
    "  \n",
    "\n",
    "if __name__ == \"__main__\":\n"
   ]
  },
  {
   "cell_type": "code",
   "execution_count": null,
   "metadata": {},
   "outputs": [],
   "source": [
    "p1 = multiprocessing.Process(target=print_square, args=(10, ))\n",
    "p2 = multiprocessing.Process(target=print_cube, args=(10, ))"
   ]
  },
  {
   "cell_type": "code",
   "execution_count": null,
   "metadata": {},
   "outputs": [],
   "source": [
    "p1.start()\n",
    "p2.start()"
   ]
  },
  {
   "cell_type": "code",
   "execution_count": null,
   "metadata": {},
   "outputs": [],
   "source": [
    "p1.join()\n",
    "p2.join()"
   ]
  },
  {
   "cell_type": "markdown",
   "metadata": {},
   "source": [
    "Q4. What is a multiprocessing pool in python? Why is it used?"
   ]
  },
  {
   "cell_type": "markdown",
   "metadata": {},
   "source": [
    "Pool class allows you to create and manage process pools in Python. By using pool class we execute plenty of data by divided it in multiple parts and providing it to multiple processors."
   ]
  },
  {
   "cell_type": "markdown",
   "metadata": {},
   "source": [
    "Q5. How can we create a pool of worker processes in python using the multiprocessing module?"
   ]
  },
  {
   "cell_type": "code",
   "execution_count": 1,
   "metadata": {},
   "outputs": [],
   "source": [
    "import multiprocessing\n",
    "\n",
    "#we are creating a function for cube of numbers\n",
    "def cube(num):\n",
    "    return num**3\n",
    "\n",
    "\n",
    "if __name__ == \"__main__\":\n",
    "    # creating multiprocessing pool function \n",
    "    with multiprocessing.Pool(7) as pool: \n",
    "       \n",
    "        op = pool.map(cube, [3, 8, 10, 25])\n",
    "        print(op)"
   ]
  },
  {
   "cell_type": "markdown",
   "metadata": {},
   "source": [
    "Q6. Write a python program to create 4 processes, each process should print a different number using the \n",
    "multiprocessing module in python."
   ]
  },
  {
   "cell_type": "code",
   "execution_count": 16,
   "metadata": {},
   "outputs": [],
   "source": [
    "import logging\n",
    "import multiprocessing\n",
    "import time\n",
    "\n",
    "\n",
    "logging.basicConfig(filename = \"list1.log\",level = logging.INFO)\n",
    "\n",
    "# defining four different functions\n",
    "def square(num):\n",
    "    logging.info(\"In mp1, logging the number {} for sqaure\".format(num))\n",
    "    logging.info(\"Square of number {} is {}\".format(num, num**2))\n",
    "    print(\"Square of number {} is {}\".format(num, num**2))\n",
    "    time.sleep(4)\n",
    "    \n",
    "def cube(num):\n",
    "    logging.info(\"In mp2, logging the number {} for cube\".format(num))\n",
    "    logging.info(\"Cube of number {} is {}\".format(num, num**3))\n",
    "    print(\"cube of number {} is {}\".format(num, num**3))\n",
    "    time.sleep(1)\n",
    "\n",
    "def negative(num):\n",
    "    logging.info(\"In mp3, logging the number {} for its negative\".format(num))\n",
    "    logging.info(\"negative of number {} is {}\".format(num, -(num)))\n",
    "    print(\"negative of number {} is {}\".format(num, -(num)))\n",
    "    \n",
    "def number(num):\n",
    "    logging.info(\"In mp4, logging the number {}\".format(num))\n",
    "    logging.info(\"Given number is {}\".format(num))\n",
    "    print(\"Given number is {}\".format(num))\n",
    "  \n",
    "if __name__ ==\"__main__\":\n",
    "    # creating four different processes \n",
    "    mp1 = [multiprocessing.Process(target = square, args = (i,)) for i in range(1,6)]\n",
    "    mp2 = [multiprocessing.Process(target = cube, args = (i,)) for i in [5,3,9,10]]\n",
    "    mp3 = multiprocessing.Process(target = negative, args = (1000,))\n",
    "    mp4 = [multiprocessing.Process(target = number, args = (i,)) for i in [23,56,88]]\n",
    "    \n",
    "    # starting 4 processes\n",
    "    for i in mp1:\n",
    "        i.start()\n",
    "    for j in mp2:\n",
    "        j.start()\n",
    "    mp3.start()\n",
    "    for k in mp4:\n",
    "        k.start()\n",
    "    \n",
    "    for i in mp1:\n",
    "        i.join()\n",
    "    for j in mp2:\n",
    "        j.join()\n",
    "    mp3.join()\n",
    "    for k in mp4:\n",
    "        k.join()\n",
    "        \n",
    "\n",
    "logging.shutdown()"
   ]
  },
  {
   "cell_type": "code",
   "execution_count": null,
   "metadata": {},
   "outputs": [],
   "source": []
  }
 ],
 "metadata": {
  "kernelspec": {
   "display_name": "Python 3",
   "language": "python",
   "name": "python3"
  },
  "language_info": {
   "codemirror_mode": {
    "name": "ipython",
    "version": 3
   },
   "file_extension": ".py",
   "mimetype": "text/x-python",
   "name": "python",
   "nbconvert_exporter": "python",
   "pygments_lexer": "ipython3",
   "version": "3.11.4"
  },
  "orig_nbformat": 4
 },
 "nbformat": 4,
 "nbformat_minor": 2
}
